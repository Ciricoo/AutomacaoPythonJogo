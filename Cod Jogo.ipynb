{
 "cells": [
  {
   "cell_type": "code",
   "execution_count": 2,
   "id": "b5b8105d",
   "metadata": {
    "scrolled": true
   },
   "outputs": [
    {
     "name": "stdout",
     "output_type": "stream",
     "text": [
      "Requirement already satisfied: pyautogui in c:\\users\\joao_cirico\\anaconda3\\lib\\site-packages (0.9.53)\n",
      "Requirement already satisfied: PyTweening>=1.0.1 in c:\\users\\joao_cirico\\anaconda3\\lib\\site-packages (from pyautogui) (1.0.5)\n",
      "Requirement already satisfied: pyscreeze>=0.1.21 in c:\\users\\joao_cirico\\anaconda3\\lib\\site-packages (from pyautogui) (0.1.28)\n",
      "Requirement already satisfied: mouseinfo in c:\\users\\joao_cirico\\anaconda3\\lib\\site-packages (from pyautogui) (0.1.3)\n",
      "Requirement already satisfied: pygetwindow>=0.0.5 in c:\\users\\joao_cirico\\anaconda3\\lib\\site-packages (from pyautogui) (0.0.9)\n",
      "Requirement already satisfied: pymsgbox in c:\\users\\joao_cirico\\anaconda3\\lib\\site-packages (from pyautogui) (1.0.9)\n",
      "Requirement already satisfied: pyrect in c:\\users\\joao_cirico\\anaconda3\\lib\\site-packages (from pygetwindow>=0.0.5->pyautogui) (0.2.0)\n",
      "Requirement already satisfied: pyperclip in c:\\users\\joao_cirico\\anaconda3\\lib\\site-packages (from mouseinfo->pyautogui) (1.8.2)\n",
      "Requirement already satisfied: pyperclip in c:\\users\\joao_cirico\\anaconda3\\lib\\site-packages (1.8.2)\n"
     ]
    }
   ],
   "source": [
    "!pip install pyautogui\n",
    "!pip install pyperclip"
   ]
  },
  {
   "cell_type": "code",
   "execution_count": 92,
   "id": "b748c15f",
   "metadata": {},
   "outputs": [],
   "source": [
    "import pyautogui\n",
    "import pyperclip\n",
    "import time\n",
    "\n",
    "pyautogui.PAUSE = 1\n",
    "\n",
    "pyautogui.hotkey(\"ctrl\", \"t\")\n",
    "pyperclip.copy(\"https://www.friv.com/\")\n",
    "pyautogui.hotkey(\"ctrl\", \"v\")\n",
    "pyautogui.press(\"enter\")\n",
    "time.sleep(2)\n",
    "pyautogui.click(x=319, y=54)\n",
    "pyperclip.copy(r\"https://www.friv.com/z/games/avoidmissiles/game.html\")\n",
    "pyautogui.hotkey(\"ctrl\", \"v\")\n",
    "pyautogui.press(\"enter\")\n",
    "time.sleep(7)\n",
    "x = 0\n",
    "\n",
    "pyautogui.click(x=663, y=240)\n",
    "time.sleep(2)\n",
    "pyautogui.click(x=676, y=594)\n",
    "time.sleep(2)\n",
    "pyautogui.click(x=676, y=594)\n",
    "time.sleep(2)\n",
    "pyautogui.click(x=676, y=522)\n",
    "time.sleep(2)\n",
    "\n",
    "\n",
    "while( x < 5):\n",
    "\tpyautogui.click(x=50, y=90)\n",
    "\ttime.sleep(1)\n",
    "\tpyautogui.click(x=368, y=701)\n",
    "\ttime.sleep(1)\n",
    "\tpyautogui.click(x=1286, y=598)\n",
    "\ttime.sleep(1)\n",
    "\tpyautogui.click(x=940, y=213)\n",
    "\ttime.sleep(1)\n",
    "\tx = x + 1\n",
    "    \n",
    "\n",
    "time.sleep(3)\n",
    "pyautogui.click()\n",
    "time.sleep(1)\n",
    "pyautogui.moveTo(317, 132)\n",
    "time.sleep(1)\n",
    "pyautogui.hotkey(\"shift\",\"win\",\"s\")\n",
    "time.sleep(1)\n",
    "pyautogui.dragTo(1052, 673, 3)\n",
    "time.sleep(3)\n",
    "\n",
    "pyautogui.hotkey(\"ctrl\", \"t\")\n",
    "time.sleep(1)\n",
    "pyautogui.write(\"https://mail.google.com/mail/u/0/?tab=rm&ogbl#inbox\")\n",
    "pyautogui.press(\"enter\")\n",
    "time.sleep(3)\n",
    "\n",
    "pyautogui.click(x=185, y=177)\n",
    "time.sleep(5)\n",
    "\n",
    "pyautogui.write(\"joao_cirico@estudante.sesisenai.org.br\")\n",
    "pyautogui.press(\"tab\")\n",
    "\n",
    "pyautogui.press(\"tab\")\n",
    "time.sleep(1)\n",
    "pyautogui.write(\"Record Avoid Missiles\")\n",
    "pyautogui.press(\"tab\")\n",
    "time.sleep(2)\n",
    "pyautogui.hotkey(\"ctrl\", \"v\")\n",
    "time.sleep(3)\n",
    "pyautogui.hotkey(\"ctrl\",\"enter\")\n",
    "\n",
    "\n",
    "\n",
    "\n",
    "\n",
    "\n",
    "\n",
    "\n"
   ]
  }
 ],
 "metadata": {
  "kernelspec": {
   "display_name": "Python 3 (ipykernel)",
   "language": "python",
   "name": "python3"
  },
  "language_info": {
   "codemirror_mode": {
    "name": "ipython",
    "version": 3
   },
   "file_extension": ".py",
   "mimetype": "text/x-python",
   "name": "python",
   "nbconvert_exporter": "python",
   "pygments_lexer": "ipython3",
   "version": "3.9.7"
  }
 },
 "nbformat": 4,
 "nbformat_minor": 5
}
